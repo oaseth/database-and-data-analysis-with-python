{
 "cells": [
  {
   "cell_type": "code",
   "execution_count": 1,
   "id": "4107b50c",
   "metadata": {},
   "outputs": [],
   "source": [
    "import pandas as pd\n",
    "import matplotlib"
   ]
  },
  {
   "cell_type": "code",
   "execution_count": 2,
   "id": "5bf2b5e0",
   "metadata": {},
   "outputs": [],
   "source": [
    "df = pd.read_csv(\"red30.csv\")"
   ]
  },
  {
   "cell_type": "code",
   "execution_count": 3,
   "id": "707444e9",
   "metadata": {},
   "outputs": [
    {
     "data": {
      "text/html": [
       "<div>\n",
       "<style scoped>\n",
       "    .dataframe tbody tr th:only-of-type {\n",
       "        vertical-align: middle;\n",
       "    }\n",
       "\n",
       "    .dataframe tbody tr th {\n",
       "        vertical-align: top;\n",
       "    }\n",
       "\n",
       "    .dataframe thead th {\n",
       "        text-align: right;\n",
       "    }\n",
       "</style>\n",
       "<table border=\"1\" class=\"dataframe\">\n",
       "  <thead>\n",
       "    <tr style=\"text-align: right;\">\n",
       "      <th></th>\n",
       "      <th>OrderNum</th>\n",
       "      <th>OrderType</th>\n",
       "      <th>CustomerType</th>\n",
       "      <th>CustName</th>\n",
       "      <th>CustState</th>\n",
       "      <th>ProdCategory</th>\n",
       "      <th>ProdNumber</th>\n",
       "      <th>ProdName</th>\n",
       "      <th>Quantity</th>\n",
       "      <th>Price</th>\n",
       "      <th>Discount</th>\n",
       "      <th>OrderTotal</th>\n",
       "    </tr>\n",
       "  </thead>\n",
       "  <tbody>\n",
       "    <tr>\n",
       "      <th>0</th>\n",
       "      <td>1100934</td>\n",
       "      <td>Wholesale</td>\n",
       "      <td>Business</td>\n",
       "      <td>Gusikowski Group</td>\n",
       "      <td>North Carolina</td>\n",
       "      <td>Blueprints</td>\n",
       "      <td>BP102</td>\n",
       "      <td>Bsquare Robot Blueprint</td>\n",
       "      <td>10</td>\n",
       "      <td>$8.99</td>\n",
       "      <td>$1.80</td>\n",
       "      <td>$88.10</td>\n",
       "    </tr>\n",
       "    <tr>\n",
       "      <th>1</th>\n",
       "      <td>1100935</td>\n",
       "      <td>Retail</td>\n",
       "      <td>Individual</td>\n",
       "      <td>Spencer Educators</td>\n",
       "      <td>Delaware</td>\n",
       "      <td>Drone Kits</td>\n",
       "      <td>DK204</td>\n",
       "      <td>BYOD-300</td>\n",
       "      <td>2</td>\n",
       "      <td>$89.00</td>\n",
       "      <td>0</td>\n",
       "      <td>$178.00</td>\n",
       "    </tr>\n",
       "    <tr>\n",
       "      <th>2</th>\n",
       "      <td>1100936</td>\n",
       "      <td>Wholesale</td>\n",
       "      <td>Business</td>\n",
       "      <td>Schinner Inc.</td>\n",
       "      <td>Florida</td>\n",
       "      <td>Training Videos</td>\n",
       "      <td>TV801</td>\n",
       "      <td>Aerial Security</td>\n",
       "      <td>10</td>\n",
       "      <td>$36.99</td>\n",
       "      <td>$7.40</td>\n",
       "      <td>$362.50</td>\n",
       "    </tr>\n",
       "    <tr>\n",
       "      <th>3</th>\n",
       "      <td>1100937</td>\n",
       "      <td>Retail</td>\n",
       "      <td>Individual</td>\n",
       "      <td>Saxon Laviss</td>\n",
       "      <td>Virginia</td>\n",
       "      <td>Robot Kits</td>\n",
       "      <td>RK602</td>\n",
       "      <td>BYOR-1000</td>\n",
       "      <td>1</td>\n",
       "      <td>$189.00</td>\n",
       "      <td>0</td>\n",
       "      <td>$189.00</td>\n",
       "    </tr>\n",
       "    <tr>\n",
       "      <th>4</th>\n",
       "      <td>1100938</td>\n",
       "      <td>Retail</td>\n",
       "      <td>Business</td>\n",
       "      <td>Wilderman Technologies</td>\n",
       "      <td>Texas</td>\n",
       "      <td>eBooks</td>\n",
       "      <td>EB502</td>\n",
       "      <td>Building Your First Robot</td>\n",
       "      <td>4</td>\n",
       "      <td>$24.95</td>\n",
       "      <td>0</td>\n",
       "      <td>$99.80</td>\n",
       "    </tr>\n",
       "  </tbody>\n",
       "</table>\n",
       "</div>"
      ],
      "text/plain": [
       "   OrderNum  OrderType CustomerType                CustName       CustState  \\\n",
       "0   1100934  Wholesale     Business        Gusikowski Group  North Carolina   \n",
       "1   1100935     Retail   Individual       Spencer Educators        Delaware   \n",
       "2   1100936  Wholesale     Business           Schinner Inc.         Florida   \n",
       "3   1100937     Retail   Individual            Saxon Laviss        Virginia   \n",
       "4   1100938     Retail     Business  Wilderman Technologies           Texas   \n",
       "\n",
       "      ProdCategory ProdNumber                   ProdName  Quantity     Price  \\\n",
       "0       Blueprints      BP102    Bsquare Robot Blueprint        10    $8.99    \n",
       "1       Drone Kits      DK204                   BYOD-300         2   $89.00    \n",
       "2  Training Videos      TV801            Aerial Security        10   $36.99    \n",
       "3       Robot Kits      RK602                  BYOR-1000         1  $189.00    \n",
       "4           eBooks      EB502  Building Your First Robot         4   $24.95    \n",
       "\n",
       "  Discount OrderTotal  \n",
       "0   $1.80     $88.10   \n",
       "1        0   $178.00   \n",
       "2   $7.40    $362.50   \n",
       "3        0   $189.00   \n",
       "4        0    $99.80   "
      ]
     },
     "execution_count": 3,
     "metadata": {},
     "output_type": "execute_result"
    }
   ],
   "source": [
    "df.head()"
   ]
  },
  {
   "cell_type": "code",
   "execution_count": 4,
   "id": "fca48e9d",
   "metadata": {},
   "outputs": [
    {
     "data": {
      "text/html": [
       "<div>\n",
       "<style scoped>\n",
       "    .dataframe tbody tr th:only-of-type {\n",
       "        vertical-align: middle;\n",
       "    }\n",
       "\n",
       "    .dataframe tbody tr th {\n",
       "        vertical-align: top;\n",
       "    }\n",
       "\n",
       "    .dataframe thead th {\n",
       "        text-align: right;\n",
       "    }\n",
       "</style>\n",
       "<table border=\"1\" class=\"dataframe\">\n",
       "  <thead>\n",
       "    <tr style=\"text-align: right;\">\n",
       "      <th></th>\n",
       "      <th>OrderNum</th>\n",
       "      <th>OrderType</th>\n",
       "      <th>CustomerType</th>\n",
       "      <th>CustName</th>\n",
       "      <th>CustState</th>\n",
       "      <th>ProdCategory</th>\n",
       "      <th>ProdNumber</th>\n",
       "      <th>ProdName</th>\n",
       "      <th>Quantity</th>\n",
       "      <th>Price</th>\n",
       "      <th>Discount</th>\n",
       "      <th>OrderTotal</th>\n",
       "    </tr>\n",
       "  </thead>\n",
       "  <tbody>\n",
       "    <tr>\n",
       "      <th>4971</th>\n",
       "      <td>1105905</td>\n",
       "      <td>Wholesale</td>\n",
       "      <td>Business</td>\n",
       "      <td>Rau-Dickinson</td>\n",
       "      <td>Kentucky</td>\n",
       "      <td>eBooks</td>\n",
       "      <td>EB503</td>\n",
       "      <td>Building Your Own Drone</td>\n",
       "      <td>5</td>\n",
       "      <td>$24.99</td>\n",
       "      <td>$5.00</td>\n",
       "      <td>$119.95</td>\n",
       "    </tr>\n",
       "    <tr>\n",
       "      <th>4972</th>\n",
       "      <td>1105906</td>\n",
       "      <td>Wholesale</td>\n",
       "      <td>Business</td>\n",
       "      <td>Reichel and Sons</td>\n",
       "      <td>Oklahoma</td>\n",
       "      <td>eBooks</td>\n",
       "      <td>EB502</td>\n",
       "      <td>Building Your First Robot</td>\n",
       "      <td>5</td>\n",
       "      <td>$24.95</td>\n",
       "      <td>$4.99</td>\n",
       "      <td>$119.76</td>\n",
       "    </tr>\n",
       "    <tr>\n",
       "      <th>4973</th>\n",
       "      <td>1105907</td>\n",
       "      <td>Wholesale</td>\n",
       "      <td>Business</td>\n",
       "      <td>Wolff LLC</td>\n",
       "      <td>South Carolina</td>\n",
       "      <td>Blueprints</td>\n",
       "      <td>BP104</td>\n",
       "      <td>Cat Robot Blueprint</td>\n",
       "      <td>10</td>\n",
       "      <td>$4.99</td>\n",
       "      <td>$1.00</td>\n",
       "      <td>$48.90</td>\n",
       "    </tr>\n",
       "    <tr>\n",
       "      <th>4974</th>\n",
       "      <td>1105908</td>\n",
       "      <td>Retail</td>\n",
       "      <td>Business</td>\n",
       "      <td>McClure Inc.</td>\n",
       "      <td>Utah</td>\n",
       "      <td>Drone Kits</td>\n",
       "      <td>DK209</td>\n",
       "      <td>BYOD-550</td>\n",
       "      <td>64</td>\n",
       "      <td>$179.00</td>\n",
       "      <td>0</td>\n",
       "      <td>$11,456.00</td>\n",
       "    </tr>\n",
       "    <tr>\n",
       "      <th>4975</th>\n",
       "      <td>1105909</td>\n",
       "      <td>Retail</td>\n",
       "      <td>Individual</td>\n",
       "      <td>Gussi Strodder</td>\n",
       "      <td>New York</td>\n",
       "      <td>Drone Kits</td>\n",
       "      <td>DK204</td>\n",
       "      <td>BYOD-300</td>\n",
       "      <td>1</td>\n",
       "      <td>$89.00</td>\n",
       "      <td>0</td>\n",
       "      <td>$89.00</td>\n",
       "    </tr>\n",
       "  </tbody>\n",
       "</table>\n",
       "</div>"
      ],
      "text/plain": [
       "      OrderNum  OrderType CustomerType          CustName       CustState  \\\n",
       "4971   1105905  Wholesale     Business     Rau-Dickinson        Kentucky   \n",
       "4972   1105906  Wholesale     Business  Reichel and Sons        Oklahoma   \n",
       "4973   1105907  Wholesale     Business         Wolff LLC  South Carolina   \n",
       "4974   1105908     Retail     Business      McClure Inc.            Utah   \n",
       "4975   1105909     Retail   Individual    Gussi Strodder        New York   \n",
       "\n",
       "     ProdCategory ProdNumber                   ProdName  Quantity     Price  \\\n",
       "4971       eBooks      EB503    Building Your Own Drone         5   $24.99    \n",
       "4972       eBooks      EB502  Building Your First Robot         5   $24.95    \n",
       "4973   Blueprints      BP104        Cat Robot Blueprint        10    $4.99    \n",
       "4974   Drone Kits      DK209                   BYOD-550        64  $179.00    \n",
       "4975   Drone Kits      DK204                   BYOD-300         1   $89.00    \n",
       "\n",
       "     Discount   OrderTotal  \n",
       "4971   $5.00      $119.95   \n",
       "4972   $4.99      $119.76   \n",
       "4973   $1.00       $48.90   \n",
       "4974        0  $11,456.00   \n",
       "4975        0      $89.00   "
      ]
     },
     "execution_count": 4,
     "metadata": {},
     "output_type": "execute_result"
    }
   ],
   "source": [
    "df.tail()"
   ]
  },
  {
   "cell_type": "code",
   "execution_count": 5,
   "id": "9d05083c",
   "metadata": {},
   "outputs": [
    {
     "name": "stdout",
     "output_type": "stream",
     "text": [
      "<class 'pandas.core.frame.DataFrame'>\n",
      "RangeIndex: 4976 entries, 0 to 4975\n",
      "Data columns (total 12 columns):\n",
      " #   Column        Non-Null Count  Dtype \n",
      "---  ------        --------------  ----- \n",
      " 0   OrderNum      4976 non-null   int64 \n",
      " 1   OrderType     4976 non-null   object\n",
      " 2   CustomerType  4976 non-null   object\n",
      " 3   CustName      4976 non-null   object\n",
      " 4   CustState     4976 non-null   object\n",
      " 5   ProdCategory  4976 non-null   object\n",
      " 6   ProdNumber    4976 non-null   object\n",
      " 7   ProdName      4976 non-null   object\n",
      " 8   Quantity      4976 non-null   int64 \n",
      " 9   Price         4976 non-null   object\n",
      " 10  Discount      4976 non-null   object\n",
      " 11  OrderTotal    4976 non-null   object\n",
      "dtypes: int64(2), object(10)\n",
      "memory usage: 466.6+ KB\n"
     ]
    }
   ],
   "source": [
    "df.info()"
   ]
  },
  {
   "cell_type": "code",
   "execution_count": 6,
   "id": "f19a1795",
   "metadata": {},
   "outputs": [
    {
     "data": {
      "text/html": [
       "<div>\n",
       "<style scoped>\n",
       "    .dataframe tbody tr th:only-of-type {\n",
       "        vertical-align: middle;\n",
       "    }\n",
       "\n",
       "    .dataframe tbody tr th {\n",
       "        vertical-align: top;\n",
       "    }\n",
       "\n",
       "    .dataframe thead th {\n",
       "        text-align: right;\n",
       "    }\n",
       "</style>\n",
       "<table border=\"1\" class=\"dataframe\">\n",
       "  <thead>\n",
       "    <tr style=\"text-align: right;\">\n",
       "      <th></th>\n",
       "      <th>OrderNum</th>\n",
       "      <th>Quantity</th>\n",
       "    </tr>\n",
       "  </thead>\n",
       "  <tbody>\n",
       "    <tr>\n",
       "      <th>count</th>\n",
       "      <td>4.976000e+03</td>\n",
       "      <td>4976.000000</td>\n",
       "    </tr>\n",
       "    <tr>\n",
       "      <th>mean</th>\n",
       "      <td>1.103422e+06</td>\n",
       "      <td>11.107516</td>\n",
       "    </tr>\n",
       "    <tr>\n",
       "      <th>std</th>\n",
       "      <td>1.436592e+03</td>\n",
       "      <td>20.367634</td>\n",
       "    </tr>\n",
       "    <tr>\n",
       "      <th>min</th>\n",
       "      <td>1.100934e+06</td>\n",
       "      <td>1.000000</td>\n",
       "    </tr>\n",
       "    <tr>\n",
       "      <th>25%</th>\n",
       "      <td>1.102178e+06</td>\n",
       "      <td>1.000000</td>\n",
       "    </tr>\n",
       "    <tr>\n",
       "      <th>50%</th>\n",
       "      <td>1.103422e+06</td>\n",
       "      <td>5.000000</td>\n",
       "    </tr>\n",
       "    <tr>\n",
       "      <th>75%</th>\n",
       "      <td>1.104665e+06</td>\n",
       "      <td>10.000000</td>\n",
       "    </tr>\n",
       "    <tr>\n",
       "      <th>max</th>\n",
       "      <td>1.105909e+06</td>\n",
       "      <td>109.000000</td>\n",
       "    </tr>\n",
       "  </tbody>\n",
       "</table>\n",
       "</div>"
      ],
      "text/plain": [
       "           OrderNum     Quantity\n",
       "count  4.976000e+03  4976.000000\n",
       "mean   1.103422e+06    11.107516\n",
       "std    1.436592e+03    20.367634\n",
       "min    1.100934e+06     1.000000\n",
       "25%    1.102178e+06     1.000000\n",
       "50%    1.103422e+06     5.000000\n",
       "75%    1.104665e+06    10.000000\n",
       "max    1.105909e+06   109.000000"
      ]
     },
     "execution_count": 6,
     "metadata": {},
     "output_type": "execute_result"
    }
   ],
   "source": [
    "df.describe()"
   ]
  },
  {
   "cell_type": "code",
   "execution_count": 7,
   "id": "cfac3c75",
   "metadata": {},
   "outputs": [
    {
     "data": {
      "text/plain": [
       "eBooks             1296\n",
       "Training Videos     992\n",
       "Blueprints          912\n",
       "Drone Kits          552\n",
       "Robot Kits          480\n",
       "Drones              408\n",
       "Robots              336\n",
       "Name: ProdCategory, dtype: int64"
      ]
     },
     "execution_count": 7,
     "metadata": {},
     "output_type": "execute_result"
    }
   ],
   "source": [
    "df['ProdCategory'].value_counts()"
   ]
  },
  {
   "cell_type": "code",
   "execution_count": 8,
   "id": "d6d82ffc",
   "metadata": {},
   "outputs": [
    {
     "data": {
      "text/plain": [
       "Wholesale    2833\n",
       "Retail       2143\n",
       "Name: OrderType, dtype: int64"
      ]
     },
     "execution_count": 8,
     "metadata": {},
     "output_type": "execute_result"
    }
   ],
   "source": [
    "df['OrderType'].value_counts()"
   ]
  },
  {
   "cell_type": "code",
   "execution_count": 9,
   "id": "d3ae0819",
   "metadata": {},
   "outputs": [
    {
     "data": {
      "text/plain": [
       "$12.00         90\n",
       "$8.99          90\n",
       "$49.00         87\n",
       "$4.99          86\n",
       "$23.99         84\n",
       "               ..\n",
       "$40,612.20      1\n",
       "$1,385.01       1\n",
       "$672.00         1\n",
       "$1,794.28       1\n",
       "$11,456.00      1\n",
       "Name: OrderTotal, Length: 1215, dtype: int64"
      ]
     },
     "execution_count": 9,
     "metadata": {},
     "output_type": "execute_result"
    }
   ],
   "source": [
    "df['OrderTotal'].value_counts()"
   ]
  },
  {
   "cell_type": "code",
   "execution_count": 10,
   "id": "abff3384",
   "metadata": {},
   "outputs": [
    {
     "data": {
      "text/plain": [
       "count        4976\n",
       "unique       1215\n",
       "top       $12.00 \n",
       "freq           90\n",
       "Name: OrderTotal, dtype: object"
      ]
     },
     "execution_count": 10,
     "metadata": {},
     "output_type": "execute_result"
    }
   ],
   "source": [
    "df['OrderTotal'].describe()"
   ]
  },
  {
   "cell_type": "code",
   "execution_count": 11,
   "id": "f658014f",
   "metadata": {},
   "outputs": [
    {
     "data": {
      "text/plain": [
       "<AxesSubplot: >"
      ]
     },
     "execution_count": 11,
     "metadata": {},
     "output_type": "execute_result"
    },
    {
     "data": {
      "image/png": "[encoded data removed]",
      "text/plain": [
       "<Figure size 640x480 with 1 Axes>"
      ]
     },
     "metadata": {},
     "output_type": "display_data"
    }
   ],
   "source": [
    "df['Quantity'].hist()"
   ]
  },
  {
   "cell_type": "code",
   "execution_count": 12,
   "id": "452c4a12",
   "metadata": {},
   "outputs": [
    {
     "data": {
      "text/plain": [
       "<AxesSubplot: >"
      ]
     },
     "execution_count": 12,
     "metadata": {},
     "output_type": "execute_result"
    },
    {
     "data": {
      "image/png": "[encoded data removed]",
      "text/plain": [
       "<Figure size 640x480 with 1 Axes>"
      ]
     },
     "metadata": {},
     "output_type": "display_data"
    }
   ],
   "source": [
    "df['ProdCategory'].value_counts().plot(kind='barh')"
   ]
  },
  {
   "cell_type": "code",
   "execution_count": null,
   "id": "0cc948b4",
   "metadata": {},
   "outputs": [],
   "source": []
  }
 ],
 "metadata": {
  "kernelspec": {
   "display_name": "Python 3 (ipykernel)",
   "language": "python",
   "name": "python3"
  },
  "language_info": {
   "codemirror_mode": {
    "name": "ipython",
    "version": 3
   },
   "file_extension": ".py",
   "mimetype": "text/x-python",
   "name": "python",
   "nbconvert_exporter": "python",
   "pygments_lexer": "ipython3",
   "version": "3.10.8"
  }
 },
 "nbformat": 4,
 "nbformat_minor": 5
}
